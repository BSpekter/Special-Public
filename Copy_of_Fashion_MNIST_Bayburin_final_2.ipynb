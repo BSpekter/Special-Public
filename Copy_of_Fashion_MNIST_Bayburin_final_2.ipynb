{
  "nbformat": 4,
  "nbformat_minor": 0,
  "metadata": {
    "colab": {
      "name": "Copy of Fashion MNIST Bayburin final.ipynb",
      "provenance": [],
      "collapsed_sections": [],
      "include_colab_link": true
    },
    "kernelspec": {
      "name": "python3",
      "display_name": "Python 3"
    },
    "accelerator": "GPU"
  },
  "cells": [
    {
      "cell_type": "markdown",
      "metadata": {
        "id": "view-in-github",
        "colab_type": "text"
      },
      "source": [
        "<a href=\"https://colab.research.google.com/github/BSpekter/Special-Public/blob/master/Copy_of_Fashion_MNIST_Bayburin_final_2.ipynb\" target=\"_parent\"><img src=\"https://colab.research.google.com/assets/colab-badge.svg\" alt=\"Open In Colab\"/></a>"
      ]
    },
    {
      "cell_type": "code",
      "metadata": {
        "id": "HObyqUY4Wu0_",
        "colab_type": "code",
        "colab": {}
      },
      "source": [
        "import torch\n",
        "from torchvision import datasets,transforms\n",
        "from torch import nn, optim\n",
        "import torch.nn.functional as F\n",
        "import time\n",
        "import matplotlib.pyplot as plt\n",
        "\n",
        "from torch.autograd import Variable\n",
        "import matplotlib.pyplot as plt\n",
        "%matplotlib inline"
      ],
      "execution_count": 0,
      "outputs": []
    },
    {
      "cell_type": "markdown",
      "metadata": {
        "id": "gXJ7CpREe5FT",
        "colab_type": "text"
      },
      "source": [
        "Как говорил Лектор, наверное стоит внести ссылки на источники, ибо так не совсем научно. Постараемся так и сделать.\n",
        "\n",
        "\n",
        "\n",
        "Большая благодарность чувствуется вот тут:\n",
        "\n",
        "https://towardsdatascience.com/building-neural-network-using-pytorch-84f6e75f9a\n",
        "\n",
        "https://towardsdatascience.com/training-a-neural-network-using-pytorch-72ab708da210\n",
        "\n",
        "Часть кода реализовано от этого источника \n",
        "https: //www.arunprakash.org/2018/12/cnn-fashion-mnist-dataset-pytorch.html\n",
        "\n",
        "Вдохновение пару раз посещало и на этом сайте:\n",
        "https://www.kaggle.com/swapnil2195/part-4-fashion-mnist-solution/data\n",
        "\n",
        "Красивый код временами созерцался тут: https://necromuralist.github.io/In-Too-Deep/posts/nano/pytorch/part-4-fashion/\n",
        "\n",
        "Вот это точно можно потом посмотреть: https://github.com/mayurbhangale/fashion-mnist-pytorch/blob/master/CNN_Fashion_MNIST.ipynb\n",
        "\n",
        "CNN ресурс тут: https://github.com/kishankg/2-Layer-CNN-with-Pytorch-Fashion-MNIST-/blob/master/2%20Layer%20CNN%20with%20Pytorch%20(Fashion-MNIST).ipynb"
      ]
    },
    {
      "cell_type": "code",
      "metadata": {
        "id": "95YqsbJKUVWi",
        "colab_type": "code",
        "colab": {}
      },
      "source": [
        "transform = transforms.Compose([transforms.ToTensor(), transforms.Normalize((0.5, ), (0.5, ))])"
      ],
      "execution_count": 0,
      "outputs": []
    },
    {
      "cell_type": "code",
      "metadata": {
        "id": "U5Cn4VUHUX6Y",
        "colab_type": "code",
        "colab": {
          "base_uri": "https://localhost:8080/",
          "height": 211
        },
        "outputId": "bf5a7e07-7476-4fec-a29b-70ee57b9eaa4"
      },
      "source": [
        "trainset = datasets.FashionMNIST('~/.pytorch/F_MNIST_data/', train = True, transform=transform, download=True)"
      ],
      "execution_count": 7,
      "outputs": [
        {
          "output_type": "stream",
          "text": [
            "32768it [00:00, 39775.62it/s]                           \n",
            "0it [00:00, ?it/s]"
          ],
          "name": "stderr"
        },
        {
          "output_type": "stream",
          "text": [
            "Extracting /root/.pytorch/F_MNIST_data/FashionMNIST/raw/train-labels-idx1-ubyte.gz to /root/.pytorch/F_MNIST_data/FashionMNIST/raw\n",
            "Downloading http://fashion-mnist.s3-website.eu-central-1.amazonaws.com/t10k-images-idx3-ubyte.gz to /root/.pytorch/F_MNIST_data/FashionMNIST/raw/t10k-images-idx3-ubyte.gz\n"
          ],
          "name": "stdout"
        },
        {
          "output_type": "stream",
          "text": [
            "4423680it [00:02, 1699959.32it/s]                            \n",
            "0it [00:00, ?it/s]"
          ],
          "name": "stderr"
        },
        {
          "output_type": "stream",
          "text": [
            "Extracting /root/.pytorch/F_MNIST_data/FashionMNIST/raw/t10k-images-idx3-ubyte.gz to /root/.pytorch/F_MNIST_data/FashionMNIST/raw\n",
            "Downloading http://fashion-mnist.s3-website.eu-central-1.amazonaws.com/t10k-labels-idx1-ubyte.gz to /root/.pytorch/F_MNIST_data/FashionMNIST/raw/t10k-labels-idx1-ubyte.gz\n"
          ],
          "name": "stdout"
        },
        {
          "output_type": "stream",
          "text": [
            "8192it [00:00, 15108.15it/s]            "
          ],
          "name": "stderr"
        },
        {
          "output_type": "stream",
          "text": [
            "Extracting /root/.pytorch/F_MNIST_data/FashionMNIST/raw/t10k-labels-idx1-ubyte.gz to /root/.pytorch/F_MNIST_data/FashionMNIST/raw\n",
            "Processing...\n",
            "Done!\n"
          ],
          "name": "stdout"
        },
        {
          "output_type": "stream",
          "text": [
            "\n"
          ],
          "name": "stderr"
        }
      ]
    },
    {
      "cell_type": "code",
      "metadata": {
        "id": "AdFM2T26UaoL",
        "colab_type": "code",
        "colab": {}
      },
      "source": [
        "trainloader = torch.utils.data.DataLoader(trainset, shuffle=True, batch_size=128)"
      ],
      "execution_count": 0,
      "outputs": []
    },
    {
      "cell_type": "code",
      "metadata": {
        "id": "rvlf6loMUnAI",
        "colab_type": "code",
        "colab": {}
      },
      "source": [
        "testset = datasets.FashionMNIST('~/.pytorch/F_MNIST_data/', train = False, transform=transform, download = True)"
      ],
      "execution_count": 0,
      "outputs": []
    },
    {
      "cell_type": "code",
      "metadata": {
        "id": "BuI3cMZLUqSk",
        "colab_type": "code",
        "colab": {}
      },
      "source": [
        "testloader = torch.utils.data.DataLoader(testset, shuffle=False, batch_size=128)"
      ],
      "execution_count": 0,
      "outputs": []
    },
    {
      "cell_type": "markdown",
      "metadata": {
        "id": "fK6eNDnzcX2X",
        "colab_type": "text"
      },
      "source": [
        "Попробовал поиграть с обычной полносвязной нейросетью. Конечно не 92% Accuracy, но тоже ничего. И конечно стоит сказать что Dropout помогает.\n",
        "\n",
        "Да и попробовал применить Adam and SGD."
      ]
    },
    {
      "cell_type": "code",
      "metadata": {
        "id": "LLJn_7dFT5B4",
        "colab_type": "code",
        "colab": {}
      },
      "source": [
        "class Model(nn.Module):\n",
        "    def __init__(self):\n",
        "        super().__init__()\n",
        "        self.l1 = nn.Linear(784, 256)\n",
        "        self.l2 = nn.Linear(256, 128)\n",
        "        self.l3 = nn.Linear(128,64)\n",
        "        self.l4 = nn.Linear(64,10)\n",
        "    def forward(self,x):\n",
        "        #So here we are trying to flatten images along vector\n",
        "        x = x.view(x.shape[0],-1)\n",
        "\n",
        "        x = F.relu(self.l1(x))\n",
        "        x = F.relu(self.l2(x))\n",
        "        x = F.relu(self.l3(x))\n",
        "        x = F.log_softmax(self.l4(x), dim=1)\n",
        "        return x"
      ],
      "execution_count": 0,
      "outputs": []
    },
    {
      "cell_type": "code",
      "metadata": {
        "id": "KMJktsp0b7nk",
        "colab_type": "code",
        "colab": {}
      },
      "source": [
        "device = torch.device(\"cuda\") if torch.cuda.is_available() else torch.device(\"cpu\")\n",
        "model=Model().to(device)\n",
        "criterion = nn.NLLLoss()\n",
        "optimizer = optim.SGD(model.parameters(), lr=0.003)"
      ],
      "execution_count": 0,
      "outputs": []
    },
    {
      "cell_type": "code",
      "metadata": {
        "id": "FEZPLW7WcCGL",
        "colab_type": "code",
        "colab": {
          "base_uri": "https://localhost:8080/",
          "height": 537
        },
        "outputId": "31abd06d-b276-4965-9725-f8df6734e85f"
      },
      "source": [
        "epoch = 30\n",
        "train_losses, test_losses = [],[]\n",
        "for e in range(epoch):\n",
        "    train_loss = 0\n",
        "    test_loss = 0\n",
        "    accuracy = 0\n",
        "    for images, labels in trainloader:\n",
        "        images, labels = images.to(device), labels.to(device)\n",
        "\n",
        "        optimizer.zero_grad()\n",
        "        output = model(images)\n",
        "        loss = criterion(output, labels)\n",
        "        train_loss += loss.item()\n",
        "\n",
        "        loss.backward()\n",
        "        optimizer.step()\n",
        "    else:\n",
        "        with torch.no_grad():\n",
        "            model.eval()\n",
        "            for images,labels in testloader:\n",
        "                images, labels = images.to(device), labels.to(device)\n",
        "\n",
        "                log_ps = model(images)\n",
        "                prob = torch.exp(log_ps)\n",
        "                top_probs, top_classes = prob.topk(1, dim=1)\n",
        "                equals = labels == top_classes.view(labels.shape)\n",
        "                accuracy += equals.type(torch.FloatTensor).mean()\n",
        "                test_loss += criterion(log_ps, labels)\n",
        "        model.train()\n",
        "    print(\"Epoch: {}/{}.. \".format(e+1, epoch),\n",
        "              \"Training Loss: {:.3f}.. \".format(train_loss/len(trainloader)),\n",
        "              \"Test Loss: {:.3f}.. \".format(test_loss/len(testloader)),\n",
        "              \"Test Accuracy: {:.3f}\".format(accuracy/len(testloader)))\n",
        "    train_losses.append(train_loss/len(trainloader))\n",
        "    test_losses.append(test_loss/len(testloader))"
      ],
      "execution_count": 13,
      "outputs": [
        {
          "output_type": "stream",
          "text": [
            "Epoch: 1/30..  Training Loss: 2.266..  Test Loss: 2.207..  Test Accuracy: 0.413\n",
            "Epoch: 2/30..  Training Loss: 2.030..  Test Loss: 1.741..  Test Accuracy: 0.382\n",
            "Epoch: 3/30..  Training Loss: 1.407..  Test Loss: 1.163..  Test Accuracy: 0.617\n",
            "Epoch: 4/30..  Training Loss: 1.029..  Test Loss: 0.939..  Test Accuracy: 0.689\n",
            "Epoch: 5/30..  Training Loss: 0.866..  Test Loss: 0.820..  Test Accuracy: 0.719\n",
            "Epoch: 6/30..  Training Loss: 0.771..  Test Loss: 0.748..  Test Accuracy: 0.736\n",
            "Epoch: 7/30..  Training Loss: 0.712..  Test Loss: 0.703..  Test Accuracy: 0.744\n",
            "Epoch: 8/30..  Training Loss: 0.673..  Test Loss: 0.672..  Test Accuracy: 0.757\n",
            "Epoch: 9/30..  Training Loss: 0.643..  Test Loss: 0.645..  Test Accuracy: 0.766\n",
            "Epoch: 10/30..  Training Loss: 0.620..  Test Loss: 0.625..  Test Accuracy: 0.774\n",
            "Epoch: 11/30..  Training Loss: 0.599..  Test Loss: 0.607..  Test Accuracy: 0.779\n",
            "Epoch: 12/30..  Training Loss: 0.582..  Test Loss: 0.590..  Test Accuracy: 0.787\n",
            "Epoch: 13/30..  Training Loss: 0.566..  Test Loss: 0.577..  Test Accuracy: 0.792\n",
            "Epoch: 14/30..  Training Loss: 0.551..  Test Loss: 0.563..  Test Accuracy: 0.796\n",
            "Epoch: 15/30..  Training Loss: 0.538..  Test Loss: 0.553..  Test Accuracy: 0.802\n",
            "Epoch: 16/30..  Training Loss: 0.525..  Test Loss: 0.541..  Test Accuracy: 0.806\n",
            "Epoch: 17/30..  Training Loss: 0.514..  Test Loss: 0.533..  Test Accuracy: 0.808\n",
            "Epoch: 18/30..  Training Loss: 0.504..  Test Loss: 0.523..  Test Accuracy: 0.813\n",
            "Epoch: 19/30..  Training Loss: 0.494..  Test Loss: 0.514..  Test Accuracy: 0.814\n",
            "Epoch: 20/30..  Training Loss: 0.485..  Test Loss: 0.507..  Test Accuracy: 0.818\n",
            "Epoch: 21/30..  Training Loss: 0.477..  Test Loss: 0.502..  Test Accuracy: 0.820\n",
            "Epoch: 22/30..  Training Loss: 0.470..  Test Loss: 0.493..  Test Accuracy: 0.822\n",
            "Epoch: 23/30..  Training Loss: 0.463..  Test Loss: 0.488..  Test Accuracy: 0.822\n",
            "Epoch: 24/30..  Training Loss: 0.457..  Test Loss: 0.482..  Test Accuracy: 0.827\n",
            "Epoch: 25/30..  Training Loss: 0.451..  Test Loss: 0.476..  Test Accuracy: 0.829\n",
            "Epoch: 26/30..  Training Loss: 0.445..  Test Loss: 0.474..  Test Accuracy: 0.830\n",
            "Epoch: 27/30..  Training Loss: 0.440..  Test Loss: 0.467..  Test Accuracy: 0.833\n",
            "Epoch: 28/30..  Training Loss: 0.435..  Test Loss: 0.468..  Test Accuracy: 0.831\n",
            "Epoch: 29/30..  Training Loss: 0.431..  Test Loss: 0.459..  Test Accuracy: 0.835\n",
            "Epoch: 30/30..  Training Loss: 0.426..  Test Loss: 0.457..  Test Accuracy: 0.838\n"
          ],
          "name": "stdout"
        }
      ]
    },
    {
      "cell_type": "code",
      "metadata": {
        "id": "10l6OPP-eJvS",
        "colab_type": "code",
        "colab": {
          "base_uri": "https://localhost:8080/",
          "height": 299
        },
        "outputId": "9215590f-2ac2-42cd-f506-a60b0ba3241b"
      },
      "source": [
        "plt.plot(train_losses,label = \"Train losses\")\n",
        "plt.plot(test_losses, label = \"Test losses\")\n",
        "plt.title(\"Here we use SGD algorithm\")\n",
        "plt.legend()"
      ],
      "execution_count": 14,
      "outputs": [
        {
          "output_type": "execute_result",
          "data": {
            "text/plain": [
              "<matplotlib.legend.Legend at 0x7f1701224518>"
            ]
          },
          "metadata": {
            "tags": []
          },
          "execution_count": 14
        },
        {
          "output_type": "display_data",
          "data": {
            "image/png": "[encoded data removed]",
            "text/plain": [
              "<Figure size 432x288 with 1 Axes>"
            ]
          },
          "metadata": {
            "tags": []
          }
        }
      ]
    },
    {
      "cell_type": "code",
      "metadata": {
        "id": "WXrWIFHaPh-M",
        "colab_type": "code",
        "colab": {}
      },
      "source": [
        "optimizer = optim.Adam(model.parameters(), lr=0.003)"
      ],
      "execution_count": 0,
      "outputs": []
    },
    {
      "cell_type": "code",
      "metadata": {
        "id": "8ZLis8GpRghC",
        "colab_type": "code",
        "colab": {
          "base_uri": "https://localhost:8080/",
          "height": 537
        },
        "outputId": "0c76e964-8150-428b-d450-2381dae28807"
      },
      "source": [
        "epoch = 30\n",
        "train_losses, test_losses = [],[]\n",
        "for e in range(epoch):\n",
        "    train_loss = 0\n",
        "    test_loss = 0\n",
        "    accuracy = 0\n",
        "    for images, labels in trainloader:\n",
        "        images, labels = images.to(device), labels.to(device)\n",
        "\n",
        "        optimizer.zero_grad()\n",
        "        output = model(images)\n",
        "        loss = criterion(output, labels)\n",
        "        train_loss += loss.item()\n",
        "\n",
        "        loss.backward()\n",
        "        optimizer.step()\n",
        "    else:\n",
        "        with torch.no_grad():\n",
        "            model.eval()\n",
        "            for images,labels in testloader:\n",
        "                images, labels = images.to(device), labels.to(device)\n",
        "\n",
        "                log_ps = model(images)\n",
        "                prob = torch.exp(log_ps)\n",
        "                top_probs, top_classes = prob.topk(1, dim=1)\n",
        "                equals = labels == top_classes.view(labels.shape)\n",
        "                accuracy += equals.type(torch.FloatTensor).mean()\n",
        "                test_loss += criterion(log_ps, labels)\n",
        "        model.train()\n",
        "    print(\"Epoch: {}/{}.. \".format(e+1, epoch),\n",
        "              \"Training Loss: {:.3f}.. \".format(train_loss/len(trainloader)),\n",
        "              \"Test Loss: {:.3f}.. \".format(test_loss/len(testloader)),\n",
        "              \"Test Accuracy: {:.3f}\".format(accuracy/len(testloader)))\n",
        "    train_losses.append(train_loss/len(trainloader))\n",
        "    test_losses.append(test_loss/len(testloader))"
      ],
      "execution_count": 16,
      "outputs": [
        {
          "output_type": "stream",
          "text": [
            "Epoch: 1/30..  Training Loss: 0.513..  Test Loss: 0.414..  Test Accuracy: 0.851\n",
            "Epoch: 2/30..  Training Loss: 0.382..  Test Loss: 0.410..  Test Accuracy: 0.857\n",
            "Epoch: 3/30..  Training Loss: 0.344..  Test Loss: 0.382..  Test Accuracy: 0.866\n",
            "Epoch: 4/30..  Training Loss: 0.323..  Test Loss: 0.372..  Test Accuracy: 0.864\n",
            "Epoch: 5/30..  Training Loss: 0.309..  Test Loss: 0.371..  Test Accuracy: 0.865\n",
            "Epoch: 6/30..  Training Loss: 0.293..  Test Loss: 0.356..  Test Accuracy: 0.875\n",
            "Epoch: 7/30..  Training Loss: 0.281..  Test Loss: 0.350..  Test Accuracy: 0.873\n",
            "Epoch: 8/30..  Training Loss: 0.272..  Test Loss: 0.364..  Test Accuracy: 0.873\n",
            "Epoch: 9/30..  Training Loss: 0.263..  Test Loss: 0.356..  Test Accuracy: 0.875\n",
            "Epoch: 10/30..  Training Loss: 0.251..  Test Loss: 0.350..  Test Accuracy: 0.879\n",
            "Epoch: 11/30..  Training Loss: 0.245..  Test Loss: 0.344..  Test Accuracy: 0.878\n",
            "Epoch: 12/30..  Training Loss: 0.241..  Test Loss: 0.378..  Test Accuracy: 0.884\n",
            "Epoch: 13/30..  Training Loss: 0.233..  Test Loss: 0.355..  Test Accuracy: 0.878\n",
            "Epoch: 14/30..  Training Loss: 0.230..  Test Loss: 0.362..  Test Accuracy: 0.881\n",
            "Epoch: 15/30..  Training Loss: 0.223..  Test Loss: 0.351..  Test Accuracy: 0.883\n",
            "Epoch: 16/30..  Training Loss: 0.216..  Test Loss: 0.369..  Test Accuracy: 0.882\n",
            "Epoch: 17/30..  Training Loss: 0.207..  Test Loss: 0.374..  Test Accuracy: 0.880\n",
            "Epoch: 18/30..  Training Loss: 0.201..  Test Loss: 0.377..  Test Accuracy: 0.887\n",
            "Epoch: 19/30..  Training Loss: 0.207..  Test Loss: 0.368..  Test Accuracy: 0.883\n",
            "Epoch: 20/30..  Training Loss: 0.192..  Test Loss: 0.378..  Test Accuracy: 0.879\n",
            "Epoch: 21/30..  Training Loss: 0.189..  Test Loss: 0.396..  Test Accuracy: 0.881\n",
            "Epoch: 22/30..  Training Loss: 0.190..  Test Loss: 0.415..  Test Accuracy: 0.876\n",
            "Epoch: 23/30..  Training Loss: 0.182..  Test Loss: 0.375..  Test Accuracy: 0.886\n",
            "Epoch: 24/30..  Training Loss: 0.179..  Test Loss: 0.384..  Test Accuracy: 0.884\n",
            "Epoch: 25/30..  Training Loss: 0.173..  Test Loss: 0.404..  Test Accuracy: 0.881\n",
            "Epoch: 26/30..  Training Loss: 0.172..  Test Loss: 0.392..  Test Accuracy: 0.885\n",
            "Epoch: 27/30..  Training Loss: 0.167..  Test Loss: 0.423..  Test Accuracy: 0.883\n",
            "Epoch: 28/30..  Training Loss: 0.160..  Test Loss: 0.425..  Test Accuracy: 0.888\n",
            "Epoch: 29/30..  Training Loss: 0.167..  Test Loss: 0.416..  Test Accuracy: 0.886\n",
            "Epoch: 30/30..  Training Loss: 0.160..  Test Loss: 0.412..  Test Accuracy: 0.889\n"
          ],
          "name": "stdout"
        }
      ]
    },
    {
      "cell_type": "code",
      "metadata": {
        "id": "L_IjeaLfe3yA",
        "colab_type": "code",
        "colab": {
          "base_uri": "https://localhost:8080/",
          "height": 299
        },
        "outputId": "6de87284-e117-414e-b746-456c2c5f4ab0"
      },
      "source": [
        "plt.plot(train_losses,label = \"Train losses\")\n",
        "plt.plot(test_losses, label = \"Test losses\")\n",
        "plt.title(\"Here we use Adam algorithm\")\n",
        "plt.legend()"
      ],
      "execution_count": 17,
      "outputs": [
        {
          "output_type": "execute_result",
          "data": {
            "text/plain": [
              "<matplotlib.legend.Legend at 0x7f17011ca828>"
            ]
          },
          "metadata": {
            "tags": []
          },
          "execution_count": 17
        },
        {
          "output_type": "display_data",
          "data": {
            "image/png": "[encoded data removed]",
            "text/plain": [
              "<Figure size 432x288 with 1 Axes>"
            ]
          },
          "metadata": {
            "tags": []
          }
        }
      ]
    },
    {
      "cell_type": "markdown",
      "metadata": {
        "id": "iivxbTDWfCOj",
        "colab_type": "text"
      },
      "source": [
        "**Model with dropout**"
      ]
    },
    {
      "cell_type": "code",
      "metadata": {
        "id": "e8e5RaMjfB0-",
        "colab_type": "code",
        "colab": {}
      },
      "source": [
        "class Model(nn.Module):\n",
        "    def __init__(self):\n",
        "        super().__init__()\n",
        "        self.l1 = nn.Linear(784, 256)\n",
        "        self.l2 = nn.Linear(256, 128)\n",
        "        self.l3 = nn.Linear(128,64)\n",
        "        self.l4 = nn.Linear(64,10)\n",
        "        \n",
        "        self.dropout = nn.Dropout(p=0.2)\n",
        "    def forward(self,x):\n",
        "        x = x.view(x.shape[0],-1)\n",
        "        \n",
        "        x = self.dropout(F.relu(self.l1(x)))\n",
        "        x = self.dropout(F.relu(self.l2(x)))\n",
        "        x = self.dropout(F.relu(self.l3(x)))\n",
        "        x = F.log_softmax(self.l4(x), dim=1)\n",
        "        return x"
      ],
      "execution_count": 0,
      "outputs": []
    },
    {
      "cell_type": "code",
      "metadata": {
        "id": "GJnzUClgfOKy",
        "colab_type": "code",
        "colab": {}
      },
      "source": [
        "model = Model().to(device)\n",
        "optimizer = optim.Adam(model.parameters(),lr=0.003)"
      ],
      "execution_count": 0,
      "outputs": []
    },
    {
      "cell_type": "code",
      "metadata": {
        "id": "26UTtIZSRuVE",
        "colab_type": "code",
        "colab": {
          "base_uri": "https://localhost:8080/",
          "height": 537
        },
        "outputId": "a57a6169-a142-436e-b304-8d7b7ee34ebf"
      },
      "source": [
        "epoch = 30\n",
        "train_losses, test_losses = [],[]\n",
        "for e in range(epoch):\n",
        "    train_loss = 0\n",
        "    test_loss = 0\n",
        "    accuracy = 0\n",
        "    for images, labels in trainloader:\n",
        "        images, labels = images.to(device), labels.to(device)\n",
        "\n",
        "        optimizer.zero_grad()\n",
        "        output = model(images)\n",
        "        loss = criterion(output, labels)\n",
        "        train_loss += loss.item()\n",
        "\n",
        "        loss.backward()\n",
        "        optimizer.step()\n",
        "    else:\n",
        "        with torch.no_grad():\n",
        "            model.eval()\n",
        "            for images,labels in testloader:\n",
        "                images, labels = images.to(device), labels.to(device)\n",
        "\n",
        "                log_ps = model(images)\n",
        "                prob = torch.exp(log_ps)\n",
        "                top_probs, top_classes = prob.topk(1, dim=1)\n",
        "                equals = labels == top_classes.view(labels.shape)\n",
        "                accuracy += equals.type(torch.FloatTensor).mean()\n",
        "                test_loss += criterion(log_ps, labels)\n",
        "        model.train()\n",
        "    print(\"Epoch: {}/{}.. \".format(e+1, epoch),\n",
        "              \"Training Loss: {:.3f}.. \".format(train_loss/len(trainloader)),\n",
        "              \"Test Loss: {:.3f}.. \".format(test_loss/len(testloader)),\n",
        "              \"Test Accuracy: {:.3f}\".format(accuracy/len(testloader)))\n",
        "    train_losses.append(train_loss/len(trainloader))\n",
        "    test_losses.append(test_loss/len(testloader))"
      ],
      "execution_count": 20,
      "outputs": [
        {
          "output_type": "stream",
          "text": [
            "Epoch: 1/30..  Training Loss: 0.601..  Test Loss: 0.452..  Test Accuracy: 0.838\n",
            "Epoch: 2/30..  Training Loss: 0.456..  Test Loss: 0.441..  Test Accuracy: 0.841\n",
            "Epoch: 3/30..  Training Loss: 0.419..  Test Loss: 0.405..  Test Accuracy: 0.851\n",
            "Epoch: 4/30..  Training Loss: 0.403..  Test Loss: 0.395..  Test Accuracy: 0.856\n",
            "Epoch: 5/30..  Training Loss: 0.389..  Test Loss: 0.388..  Test Accuracy: 0.856\n",
            "Epoch: 6/30..  Training Loss: 0.380..  Test Loss: 0.402..  Test Accuracy: 0.865\n",
            "Epoch: 7/30..  Training Loss: 0.371..  Test Loss: 0.375..  Test Accuracy: 0.870\n",
            "Epoch: 8/30..  Training Loss: 0.358..  Test Loss: 0.364..  Test Accuracy: 0.872\n",
            "Epoch: 9/30..  Training Loss: 0.355..  Test Loss: 0.371..  Test Accuracy: 0.865\n",
            "Epoch: 10/30..  Training Loss: 0.353..  Test Loss: 0.382..  Test Accuracy: 0.869\n",
            "Epoch: 11/30..  Training Loss: 0.349..  Test Loss: 0.347..  Test Accuracy: 0.876\n",
            "Epoch: 12/30..  Training Loss: 0.342..  Test Loss: 0.356..  Test Accuracy: 0.872\n",
            "Epoch: 13/30..  Training Loss: 0.337..  Test Loss: 0.385..  Test Accuracy: 0.873\n",
            "Epoch: 14/30..  Training Loss: 0.334..  Test Loss: 0.383..  Test Accuracy: 0.860\n",
            "Epoch: 15/30..  Training Loss: 0.339..  Test Loss: 0.364..  Test Accuracy: 0.875\n",
            "Epoch: 16/30..  Training Loss: 0.331..  Test Loss: 0.356..  Test Accuracy: 0.870\n",
            "Epoch: 17/30..  Training Loss: 0.327..  Test Loss: 0.345..  Test Accuracy: 0.879\n",
            "Epoch: 18/30..  Training Loss: 0.318..  Test Loss: 0.361..  Test Accuracy: 0.874\n",
            "Epoch: 19/30..  Training Loss: 0.322..  Test Loss: 0.355..  Test Accuracy: 0.875\n",
            "Epoch: 20/30..  Training Loss: 0.315..  Test Loss: 0.352..  Test Accuracy: 0.880\n",
            "Epoch: 21/30..  Training Loss: 0.310..  Test Loss: 0.361..  Test Accuracy: 0.881\n",
            "Epoch: 22/30..  Training Loss: 0.313..  Test Loss: 0.349..  Test Accuracy: 0.879\n",
            "Epoch: 23/30..  Training Loss: 0.305..  Test Loss: 0.356..  Test Accuracy: 0.875\n",
            "Epoch: 24/30..  Training Loss: 0.307..  Test Loss: 0.355..  Test Accuracy: 0.882\n",
            "Epoch: 25/30..  Training Loss: 0.306..  Test Loss: 0.347..  Test Accuracy: 0.878\n",
            "Epoch: 26/30..  Training Loss: 0.302..  Test Loss: 0.349..  Test Accuracy: 0.878\n",
            "Epoch: 27/30..  Training Loss: 0.295..  Test Loss: 0.357..  Test Accuracy: 0.880\n",
            "Epoch: 28/30..  Training Loss: 0.299..  Test Loss: 0.344..  Test Accuracy: 0.881\n",
            "Epoch: 29/30..  Training Loss: 0.302..  Test Loss: 0.350..  Test Accuracy: 0.882\n",
            "Epoch: 30/30..  Training Loss: 0.291..  Test Loss: 0.331..  Test Accuracy: 0.886\n"
          ],
          "name": "stdout"
        }
      ]
    },
    {
      "cell_type": "code",
      "metadata": {
        "id": "IlVpc7-bfeFB",
        "colab_type": "code",
        "colab": {
          "base_uri": "https://localhost:8080/",
          "height": 299
        },
        "outputId": "7b4fd056-d262-49af-f604-bc8cc6ec8d28"
      },
      "source": [
        "plt.plot(train_losses,label = \"Train losses\")\n",
        "plt.plot(test_losses, label = \"Test losses\")\n",
        "plt.title(\"Adam model with Dropout\")\n",
        "plt.legend()"
      ],
      "execution_count": 21,
      "outputs": [
        {
          "output_type": "execute_result",
          "data": {
            "text/plain": [
              "<matplotlib.legend.Legend at 0x7f1701111048>"
            ]
          },
          "metadata": {
            "tags": []
          },
          "execution_count": 21
        },
        {
          "output_type": "display_data",
          "data": {
            "image/png": "[encoded data removed]",
            "text/plain": [
              "<Figure size 432x288 with 1 Axes>"
            ]
          },
          "metadata": {
            "tags": []
          }
        }
      ]
    },
    {
      "cell_type": "markdown",
      "metadata": {
        "id": "CXiElijs-ly0",
        "colab_type": "text"
      },
      "source": [
        "Как видно, модель с Dropout ведёт себя лучше, пусть и не значительно.\n",
        "\n",
        "Если я правильно понимаю, то дальше мы докажем что полносвязные сети проигрывают CNN в точности работы в задаче \"классификации картинок\"."
      ]
    },
    {
      "cell_type": "markdown",
      "metadata": {
        "id": "9F1q6TtZpjQd",
        "colab_type": "text"
      },
      "source": [
        "**Попытаемся построить CNN**"
      ]
    },
    {
      "cell_type": "code",
      "metadata": {
        "id": "ok90DEdRqukZ",
        "colab_type": "code",
        "colab": {}
      },
      "source": [
        "num_epochs = 30\n",
        "num_classes = 10\n",
        "batch_size = 100\n",
        "learning_rate = 0.001"
      ],
      "execution_count": 0,
      "outputs": []
    },
    {
      "cell_type": "code",
      "metadata": {
        "id": "eWDpfRfcDwmN",
        "colab_type": "code",
        "colab": {}
      },
      "source": [
        "class CNN(nn.Module):\n",
        "    def __init__(self,num_classes=10):\n",
        "        super(CNN, self).__init__()\n",
        "        self.layer1 = nn.Sequential(\n",
        "            nn.Conv2d(1, 16, kernel_size=5, padding=2),\n",
        "            nn.ReLU(),\n",
        "            nn.MaxPool2d(2))\n",
        "        self.layer2 = nn.Sequential(\n",
        "            nn.Conv2d(16, 32, kernel_size=5, padding=2),\n",
        "            nn.ReLU(),\n",
        "            nn.MaxPool2d(2))\n",
        "        self.fc = nn.Linear(7*7*32, 10)\n",
        "        \n",
        "    def forward(self, x):\n",
        "        out = self.layer1(x)\n",
        "        out = self.layer2(out)\n",
        "        out = out.view(out.size(0), -1)\n",
        "        out = self.fc(out)\n",
        "        return out"
      ],
      "execution_count": 0,
      "outputs": []
    },
    {
      "cell_type": "code",
      "metadata": {
        "id": "xzgjdyUpqFCH",
        "colab_type": "code",
        "colab": {}
      },
      "source": [
        "model = CNN().to(device)\n",
        "criterion = nn.CrossEntropyLoss()\n",
        "optimizer = torch.optim.Adam(model.parameters(), lr=0.001)"
      ],
      "execution_count": 0,
      "outputs": []
    },
    {
      "cell_type": "code",
      "metadata": {
        "id": "_Fx7OESCC5ao",
        "colab_type": "code",
        "colab": {}
      },
      "source": [
        "def test_and_plot(model, num_epochs, criterion, optimizer):\n",
        "    train_loss, test_loss = [], []\n",
        "    for e in range(num_epochs):\n",
        "        start_time = time.time()\n",
        "\n",
        "        trloss = 0\n",
        "        teloss = 0\n",
        "\n",
        "        model.train(True)\n",
        "        for images, labels in trainloader:\n",
        "            images, labels = images.to(device), labels.to(device)\n",
        "            #Run the model\n",
        "            output = model(images)\n",
        "            loss = criterion(output, labels)\n",
        "            trloss += loss.item()\n",
        "\n",
        "            #Backprop and optimization\n",
        "            optimizer.zero_grad()\n",
        "            loss.backward()\n",
        "            optimizer.step()\n",
        "\n",
        "        model.train(False)\n",
        "        for images, labels in testloader:\n",
        "            images, labels = images.to(device), labels.to(device)\n",
        "            output = model(images)\n",
        "            loss = criterion(output, labels)\n",
        "            teloss += loss.item()\n",
        "\n",
        "        train_loss.append(trloss/len(trainloader))\n",
        "        test_loss.append(teloss/len(testloader))\n",
        "\n",
        "        #Printing results for the epoch\n",
        "        print(\"Epoch {} of {} took {:.3f}s\".format(e+1, num_epochs,\n",
        "                                                  time.time()-start_time))\n",
        "        print(\"Training loss in this epoch: \\t{:.6f}\".format(train_loss[-1]))\n",
        "\n",
        "    plt.plot(train_loss, label=\"Train loss\")\n",
        "    plt.plot(test_loss, label=\"Test loss\")\n",
        "    plt.legend()"
      ],
      "execution_count": 0,
      "outputs": []
    },
    {
      "cell_type": "code",
      "metadata": {
        "id": "KaV-XO7VrREj",
        "colab_type": "code",
        "colab": {}
      },
      "source": [
        "def test_accuracy(model):\n",
        "    model.eval()  # eval mode (batchnorm uses moving mean/variance instead of mini-batch mean/variance)\n",
        "    with torch.no_grad():\n",
        "        correct = 0\n",
        "        total = 0\n",
        "        for images, labels in testloader:\n",
        "            images, labels = images.to(device), labels.to(device)\n",
        "            images = Variable(images.float())\n",
        "            labels = Variable(labels)\n",
        "            outputs = model(images)\n",
        "            _, predicted = torch.max(outputs.data, 1)\n",
        "            total += labels.size(0)\n",
        "            correct += (predicted == labels).sum().item()\n",
        "    print('Test Accuracy of the model: {} %'.format(100 * correct / total))"
      ],
      "execution_count": 0,
      "outputs": []
    },
    {
      "cell_type": "code",
      "metadata": {
        "id": "swyl7LcVY8hs",
        "colab_type": "code",
        "colab": {
          "base_uri": "https://localhost:8080/",
          "height": 1000
        },
        "outputId": "4f9e24ee-755e-41ad-d2fd-97ea5eeb48c0"
      },
      "source": [
        " test_and_plot(model, 30, criterion, optimizer)"
      ],
      "execution_count": 27,
      "outputs": [
        {
          "output_type": "stream",
          "text": [
            "Epoch 1 of 30 took 13.254s\n",
            "Training loss in this epoch: \t0.519302\n",
            "Epoch 2 of 30 took 13.308s\n",
            "Training loss in this epoch: \t0.333599\n",
            "Epoch 3 of 30 took 13.187s\n",
            "Training loss in this epoch: \t0.288097\n",
            "Epoch 4 of 30 took 13.320s\n",
            "Training loss in this epoch: \t0.262649\n",
            "Epoch 5 of 30 took 13.320s\n",
            "Training loss in this epoch: \t0.241771\n",
            "Epoch 6 of 30 took 13.323s\n",
            "Training loss in this epoch: \t0.224542\n",
            "Epoch 7 of 30 took 13.353s\n",
            "Training loss in this epoch: \t0.211330\n",
            "Epoch 8 of 30 took 13.181s\n",
            "Training loss in this epoch: \t0.198282\n",
            "Epoch 9 of 30 took 13.370s\n",
            "Training loss in this epoch: \t0.188661\n",
            "Epoch 10 of 30 took 13.265s\n",
            "Training loss in this epoch: \t0.177885\n",
            "Epoch 11 of 30 took 13.466s\n",
            "Training loss in this epoch: \t0.168543\n",
            "Epoch 12 of 30 took 13.203s\n",
            "Training loss in this epoch: \t0.160433\n",
            "Epoch 13 of 30 took 13.293s\n",
            "Training loss in this epoch: \t0.152921\n",
            "Epoch 14 of 30 took 13.335s\n",
            "Training loss in this epoch: \t0.145281\n",
            "Epoch 15 of 30 took 13.173s\n",
            "Training loss in this epoch: \t0.139284\n",
            "Epoch 16 of 30 took 13.535s\n",
            "Training loss in this epoch: \t0.133034\n",
            "Epoch 17 of 30 took 13.465s\n",
            "Training loss in this epoch: \t0.127937\n",
            "Epoch 18 of 30 took 13.502s\n",
            "Training loss in this epoch: \t0.123171\n",
            "Epoch 19 of 30 took 13.254s\n",
            "Training loss in this epoch: \t0.117169\n",
            "Epoch 20 of 30 took 13.261s\n",
            "Training loss in this epoch: \t0.110575\n",
            "Epoch 21 of 30 took 13.303s\n",
            "Training loss in this epoch: \t0.108122\n",
            "Epoch 22 of 30 took 13.316s\n",
            "Training loss in this epoch: \t0.102471\n",
            "Epoch 23 of 30 took 13.264s\n",
            "Training loss in this epoch: \t0.097548\n",
            "Epoch 24 of 30 took 13.285s\n",
            "Training loss in this epoch: \t0.095175\n",
            "Epoch 25 of 30 took 13.226s\n",
            "Training loss in this epoch: \t0.088949\n",
            "Epoch 26 of 30 took 13.238s\n",
            "Training loss in this epoch: \t0.086855\n",
            "Epoch 27 of 30 took 13.286s\n",
            "Training loss in this epoch: \t0.083728\n",
            "Epoch 28 of 30 took 13.414s\n",
            "Training loss in this epoch: \t0.081377\n",
            "Epoch 29 of 30 took 13.329s\n",
            "Training loss in this epoch: \t0.076359\n",
            "Epoch 30 of 30 took 13.394s\n",
            "Training loss in this epoch: \t0.076102\n"
          ],
          "name": "stdout"
        },
        {
          "output_type": "display_data",
          "data": {
            "image/png": "[encoded data removed]",
            "text/plain": [
              "<Figure size 432x288 with 1 Axes>"
            ]
          },
          "metadata": {
            "tags": []
          }
        }
      ]
    },
    {
      "cell_type": "code",
      "metadata": {
        "id": "E__9Ku7prYjj",
        "colab_type": "code",
        "colab": {
          "base_uri": "https://localhost:8080/",
          "height": 35
        },
        "outputId": "37db483b-264a-4b57-f72b-003b541cfaa6"
      },
      "source": [
        "test_accuracy(model)"
      ],
      "execution_count": 28,
      "outputs": [
        {
          "output_type": "stream",
          "text": [
            "Test Accuracy of the model: 91.22 %\n"
          ],
          "name": "stdout"
        }
      ]
    },
    {
      "cell_type": "markdown",
      "metadata": {
        "id": "CRV-Pgw-EsPC",
        "colab_type": "text"
      },
      "source": [
        "Думаю тут можно сказать что lr для этой модели слишком высок.\n",
        "\n",
        "Теперь попробуем модифицировать модель добавив Dropout и Batch normalization."
      ]
    },
    {
      "cell_type": "code",
      "metadata": {
        "id": "sMkZUqCRExPD",
        "colab_type": "code",
        "colab": {}
      },
      "source": [
        "class CNN(nn.Module):\n",
        "    def __init__(self,num_classes=10):\n",
        "        super(CNN, self).__init__()\n",
        "        self.layer1 = nn.Sequential(\n",
        "            nn.Conv2d(1, 16, kernel_size=5, padding=2),\n",
        "            nn.BatchNorm2d(16),\n",
        "            nn.ReLU(),\n",
        "            nn.MaxPool2d(2))\n",
        "        self.layer2 = nn.Sequential(\n",
        "            nn.Conv2d(16, 32, kernel_size=5, padding=2),\n",
        "            nn.BatchNorm2d(32),\n",
        "            nn.ReLU(),\n",
        "            nn.MaxPool2d(2))\n",
        "        self.fc = nn.Linear(7*7*32, 10)\n",
        "        self.Dropout = nn.Dropout(p=0.2)\n",
        "        \n",
        "    def forward(self, x):\n",
        "        out = self.layer1(x)\n",
        "        out = self.layer2(out)\n",
        "        out = out.view(out.size(0), -1)\n",
        "        out = self.Dropout(F.relu(self.fc(out)))\n",
        "        return out\n",
        "model = CNN().to(device)\n",
        "criterion = nn.CrossEntropyLoss()"
      ],
      "execution_count": 0,
      "outputs": []
    },
    {
      "cell_type": "code",
      "metadata": {
        "id": "Ydb78uKsVTwy",
        "colab_type": "code",
        "colab": {}
      },
      "source": [
        "optimizer = torch.optim.Adam(model.parameters(), lr=0.001)"
      ],
      "execution_count": 0,
      "outputs": []
    },
    {
      "cell_type": "code",
      "metadata": {
        "id": "f5h18163aVku",
        "colab_type": "code",
        "colab": {
          "base_uri": "https://localhost:8080/",
          "height": 1000
        },
        "outputId": "2612356b-1c64-4746-a0fd-659fa0bd3251"
      },
      "source": [
        "test_and_plot(model, 30, criterion, optimizer)"
      ],
      "execution_count": 31,
      "outputs": [
        {
          "output_type": "stream",
          "text": [
            "Epoch 1 of 30 took 14.131s\n",
            "Training loss in this epoch: \t1.538286\n",
            "Epoch 2 of 30 took 14.096s\n",
            "Training loss in this epoch: \t1.455303\n",
            "Epoch 3 of 30 took 14.082s\n",
            "Training loss in this epoch: \t1.432208\n",
            "Epoch 4 of 30 took 14.243s\n",
            "Training loss in this epoch: \t1.412555\n",
            "Epoch 5 of 30 took 14.037s\n",
            "Training loss in this epoch: \t1.397994\n",
            "Epoch 6 of 30 took 14.228s\n",
            "Training loss in this epoch: \t1.394849\n",
            "Epoch 7 of 30 took 14.220s\n",
            "Training loss in this epoch: \t1.381500\n",
            "Epoch 8 of 30 took 14.341s\n",
            "Training loss in this epoch: \t1.379545\n",
            "Epoch 9 of 30 took 14.312s\n",
            "Training loss in this epoch: \t1.370291\n",
            "Epoch 10 of 30 took 14.473s\n",
            "Training loss in this epoch: \t1.361275\n",
            "Epoch 11 of 30 took 14.389s\n",
            "Training loss in this epoch: \t1.354081\n",
            "Epoch 12 of 30 took 14.300s\n",
            "Training loss in this epoch: \t1.349702\n",
            "Epoch 13 of 30 took 14.279s\n",
            "Training loss in this epoch: \t1.344812\n",
            "Epoch 14 of 30 took 14.319s\n",
            "Training loss in this epoch: \t1.345227\n",
            "Epoch 15 of 30 took 14.371s\n",
            "Training loss in this epoch: \t1.336102\n",
            "Epoch 16 of 30 took 14.275s\n",
            "Training loss in this epoch: \t1.273173\n",
            "Epoch 17 of 30 took 14.264s\n",
            "Training loss in this epoch: \t1.154275\n",
            "Epoch 18 of 30 took 14.297s\n",
            "Training loss in this epoch: \t1.143516\n",
            "Epoch 19 of 30 took 14.295s\n",
            "Training loss in this epoch: \t1.145465\n",
            "Epoch 20 of 30 took 14.368s\n",
            "Training loss in this epoch: \t1.138840\n",
            "Epoch 21 of 30 took 14.153s\n",
            "Training loss in this epoch: \t1.137433\n",
            "Epoch 22 of 30 took 14.239s\n",
            "Training loss in this epoch: \t1.130618\n",
            "Epoch 23 of 30 took 14.286s\n",
            "Training loss in this epoch: \t1.115853\n",
            "Epoch 24 of 30 took 14.063s\n",
            "Training loss in this epoch: \t1.123348\n",
            "Epoch 25 of 30 took 14.291s\n",
            "Training loss in this epoch: \t1.121797\n",
            "Epoch 26 of 30 took 14.309s\n",
            "Training loss in this epoch: \t1.124139\n",
            "Epoch 27 of 30 took 14.307s\n",
            "Training loss in this epoch: \t1.120060\n",
            "Epoch 28 of 30 took 14.261s\n",
            "Training loss in this epoch: \t1.118146\n",
            "Epoch 29 of 30 took 14.434s\n",
            "Training loss in this epoch: \t1.108020\n",
            "Epoch 30 of 30 took 18.636s\n",
            "Training loss in this epoch: \t1.108102\n"
          ],
          "name": "stdout"
        },
        {
          "output_type": "display_data",
          "data": {
            "image/png": "[encoded data removed]",
            "text/plain": [
              "<Figure size 432x288 with 1 Axes>"
            ]
          },
          "metadata": {
            "tags": []
          }
        }
      ]
    },
    {
      "cell_type": "code",
      "metadata": {
        "id": "VB14gp8fEJ4O",
        "colab_type": "code",
        "colab": {
          "base_uri": "https://localhost:8080/",
          "height": 35
        },
        "outputId": "8b8fef68-6b85-45f2-97b9-72c917fa6d8e"
      },
      "source": [
        "test_accuracy(model)"
      ],
      "execution_count": 32,
      "outputs": [
        {
          "output_type": "stream",
          "text": [
            "Test Accuracy of the model: 63.93 %\n"
          ],
          "name": "stdout"
        }
      ]
    },
    {
      "cell_type": "markdown",
      "metadata": {
        "id": "pktU5wQ1GQBF",
        "colab_type": "text"
      },
      "source": [
        "Решили проблему - потеряли Accuracy. Видимо в дальнейшем нужно просто модифицировать параметры.\n",
        "\n",
        "В общем случае поняли что добавленные нами методы работают. Сейчас придумаем новую модель для достижения Accuracy > 92%.\n",
        "\n",
        "Буду надеятся что ключ к упеху - Дропауты, Батчнорм и больше слоёв."
      ]
    },
    {
      "cell_type": "code",
      "metadata": {
        "id": "FATb45OfdQ5m",
        "colab_type": "code",
        "colab": {}
      },
      "source": [
        "class CNN(nn.Module):\n",
        "    def __init__(self):\n",
        "        super(CNN, self).__init__()\n",
        "        self.layer1 = nn.Sequential(\n",
        "            nn.Conv2d(1, 32, kernel_size=3, padding=1),\n",
        "            nn.ReLU(),\n",
        "            )\n",
        "        self.layer2 = nn.Sequential(\n",
        "            nn.BatchNorm2d(32),\n",
        "            nn.Conv2d(32, 64, kernel_size=3, padding=1),\n",
        "            nn.ReLU(),\n",
        "            nn.MaxPool2d(kernel_size=2, stride=2)\n",
        "            )\n",
        "        self.layer3 = nn.Sequential(\n",
        "            nn.BatchNorm2d(64),\n",
        "            nn.Conv2d(64, 128, kernel_size=3, padding=1),\n",
        "            nn.ReLU(),\n",
        "            nn.MaxPool2d(kernel_size=2, stride=2)\n",
        "            )\n",
        "        self.fc1 = nn.Linear(128*49, 128)\n",
        "        self.fc2 = nn.Linear(128, 64)\n",
        "        self.fc3 = nn.Linear(64, 10)\n",
        "\n",
        "        self.LogSoftmax = nn.LogSoftmax( dim=1)\n",
        "\n",
        "        self.Dropout = nn.Dropout(p=0.3)\n",
        "        \n",
        "    def forward(self, x):\n",
        "        out = self.layer1(x)\n",
        "        out = self.Dropout(self.layer2(out))\n",
        "        out = self.layer3(out)\n",
        "\n",
        "        out = out.reshape(out.size(0), -1)\n",
        "\n",
        "        out = F.relu(self.fc1(out))\n",
        "        out = self.Dropout(self.fc2(out))\n",
        "        out = self.LogSoftmax(self.fc3(out))\n",
        "        return out\n",
        "model = CNN().to(device)\n",
        "criterion = nn.CrossEntropyLoss()\n",
        "optimizer = torch.optim.Adam(model.parameters(), lr=0.001)"
      ],
      "execution_count": 0,
      "outputs": []
    },
    {
      "cell_type": "code",
      "metadata": {
        "id": "4z2yhJ05U9M9",
        "colab_type": "code",
        "colab": {
          "base_uri": "https://localhost:8080/",
          "height": 1000
        },
        "outputId": "c0a64211-795c-424a-ea77-dd40b4e9739a"
      },
      "source": [
        "test_and_plot(model, 30, criterion, optimizer)"
      ],
      "execution_count": 34,
      "outputs": [
        {
          "output_type": "stream",
          "text": [
            "Epoch 1 of 30 took 16.113s\n",
            "Training loss in this epoch: \t0.436789\n",
            "Epoch 2 of 30 took 16.153s\n",
            "Training loss in this epoch: \t0.267320\n",
            "Epoch 3 of 30 took 16.078s\n",
            "Training loss in this epoch: \t0.213580\n",
            "Epoch 4 of 30 took 15.889s\n",
            "Training loss in this epoch: \t0.186081\n",
            "Epoch 5 of 30 took 16.017s\n",
            "Training loss in this epoch: \t0.162760\n",
            "Epoch 6 of 30 took 16.194s\n",
            "Training loss in this epoch: \t0.143466\n",
            "Epoch 7 of 30 took 15.976s\n",
            "Training loss in this epoch: \t0.128201\n",
            "Epoch 8 of 30 took 16.046s\n",
            "Training loss in this epoch: \t0.111882\n",
            "Epoch 9 of 30 took 16.223s\n",
            "Training loss in this epoch: \t0.099924\n",
            "Epoch 10 of 30 took 16.225s\n",
            "Training loss in this epoch: \t0.092191\n",
            "Epoch 11 of 30 took 16.252s\n",
            "Training loss in this epoch: \t0.078689\n",
            "Epoch 12 of 30 took 16.047s\n",
            "Training loss in this epoch: \t0.071193\n",
            "Epoch 13 of 30 took 16.240s\n",
            "Training loss in this epoch: \t0.066709\n",
            "Epoch 14 of 30 took 16.225s\n",
            "Training loss in this epoch: \t0.060197\n",
            "Epoch 15 of 30 took 16.244s\n",
            "Training loss in this epoch: \t0.056958\n",
            "Epoch 16 of 30 took 16.187s\n",
            "Training loss in this epoch: \t0.055535\n",
            "Epoch 17 of 30 took 16.409s\n",
            "Training loss in this epoch: \t0.048884\n",
            "Epoch 18 of 30 took 16.267s\n",
            "Training loss in this epoch: \t0.042540\n",
            "Epoch 19 of 30 took 16.172s\n",
            "Training loss in this epoch: \t0.041866\n",
            "Epoch 20 of 30 took 16.172s\n",
            "Training loss in this epoch: \t0.041005\n",
            "Epoch 21 of 30 took 16.311s\n",
            "Training loss in this epoch: \t0.039315\n",
            "Epoch 22 of 30 took 16.152s\n",
            "Training loss in this epoch: \t0.038486\n",
            "Epoch 23 of 30 took 16.182s\n",
            "Training loss in this epoch: \t0.034978\n",
            "Epoch 24 of 30 took 16.008s\n",
            "Training loss in this epoch: \t0.034804\n",
            "Epoch 25 of 30 took 16.175s\n",
            "Training loss in this epoch: \t0.031865\n",
            "Epoch 26 of 30 took 16.002s\n",
            "Training loss in this epoch: \t0.034487\n",
            "Epoch 27 of 30 took 16.049s\n",
            "Training loss in this epoch: \t0.032079\n",
            "Epoch 28 of 30 took 15.945s\n",
            "Training loss in this epoch: \t0.030866\n",
            "Epoch 29 of 30 took 15.960s\n",
            "Training loss in this epoch: \t0.033564\n",
            "Epoch 30 of 30 took 15.816s\n",
            "Training loss in this epoch: \t0.030093\n"
          ],
          "name": "stdout"
        },
        {
          "output_type": "display_data",
          "data": {
            "image/png": "[encoded data removed]",
            "text/plain": [
              "<Figure size 432x288 with 1 Axes>"
            ]
          },
          "metadata": {
            "tags": []
          }
        }
      ]
    },
    {
      "cell_type": "code",
      "metadata": {
        "id": "vZKY8LOvVCkB",
        "colab_type": "code",
        "colab": {
          "base_uri": "https://localhost:8080/",
          "height": 35
        },
        "outputId": "9d3c00c7-3ba5-4610-f28f-369267a08a48"
      },
      "source": [
        "test_accuracy(model)"
      ],
      "execution_count": 35,
      "outputs": [
        {
          "output_type": "stream",
          "text": [
            "Test Accuracy of the model: 93.3 %\n"
          ],
          "name": "stdout"
        }
      ]
    },
    {
      "cell_type": "markdown",
      "metadata": {
        "id": "5iko_kBlgHCf",
        "colab_type": "text"
      },
      "source": [
        "Цели по Accuracy достигли, попробуем сделать лучше."
      ]
    },
    {
      "cell_type": "code",
      "metadata": {
        "id": "SYnEUougfrs5",
        "colab_type": "code",
        "colab": {}
      },
      "source": [
        "class CNN(nn.Module):\n",
        "    def __init__(self):\n",
        "        super(CNN, self).__init__()\n",
        "        self.layer1 = nn.Sequential(\n",
        "            nn.BatchNorm2d(1),\n",
        "            nn.Conv2d(1, 16, kernel_size=3, padding=1),\n",
        "            nn.ReLU()\n",
        "            )\n",
        "        self.layer2 = nn.Sequential(\n",
        "            nn.BatchNorm2d(16),\n",
        "            nn.Conv2d(16, 32, kernel_size=3, padding=1),\n",
        "            nn.ReLU()\n",
        "            )\n",
        "        self.layer3 = nn.Sequential(\n",
        "            nn.BatchNorm2d(32),\n",
        "            nn.Conv2d(32, 64, kernel_size=3, padding=1),\n",
        "            nn.ReLU()\n",
        "            )\n",
        "        self.layer4 = nn.Sequential(\n",
        "            nn.BatchNorm2d(64),\n",
        "            nn.Conv2d(64, 128, kernel_size=3, padding=1),\n",
        "            nn.ReLU(),\n",
        "            nn.MaxPool2d(kernel_size=2, stride=2)\n",
        "            )\n",
        "        self.fc1 = nn.Linear(25088, 256)\n",
        "        self.fc2 = nn.Linear(256, 10)\n",
        "\n",
        "        self.LogSoftmax = nn.LogSoftmax(dim=1)\n",
        "        self.Dropout = nn.Dropout(p=0.3)\n",
        "        \n",
        "    def forward(self, x):\n",
        "        out = self.layer1(x)\n",
        "        out = self.Dropout(self.layer2(out))\n",
        "        out = self.Dropout(self.layer3(out))\n",
        "        out = self.Dropout(self.layer4(out))\n",
        "\n",
        "        out = out.reshape(out.size(0), -1)\n",
        "\n",
        "        out = F.relu(self.fc1(out))\n",
        "        out = self.LogSoftmax(self.fc2(out))\n",
        "        return out\n",
        "model = CNN().to(device)\n",
        "criterion = nn.CrossEntropyLoss()\n",
        "optimizer = torch.optim.Adam(model.parameters(), lr=0.001)"
      ],
      "execution_count": 0,
      "outputs": []
    },
    {
      "cell_type": "code",
      "metadata": {
        "id": "QMbgqZUOhx_D",
        "colab_type": "code",
        "colab": {
          "base_uri": "https://localhost:8080/",
          "height": 1000
        },
        "outputId": "0372c114-4495-4de0-d286-9fb62021cfa9"
      },
      "source": [
        "test_and_plot(model, 30, criterion, optimizer)"
      ],
      "execution_count": 37,
      "outputs": [
        {
          "output_type": "stream",
          "text": [
            "Epoch 1 of 30 took 17.934s\n",
            "Training loss in this epoch: \t0.559586\n",
            "Epoch 2 of 30 took 17.878s\n",
            "Training loss in this epoch: \t0.272470\n",
            "Epoch 3 of 30 took 17.758s\n",
            "Training loss in this epoch: \t0.220798\n",
            "Epoch 4 of 30 took 17.706s\n",
            "Training loss in this epoch: \t0.189712\n",
            "Epoch 5 of 30 took 17.738s\n",
            "Training loss in this epoch: \t0.163124\n",
            "Epoch 6 of 30 took 17.759s\n",
            "Training loss in this epoch: \t0.141003\n",
            "Epoch 7 of 30 took 17.863s\n",
            "Training loss in this epoch: \t0.124916\n",
            "Epoch 8 of 30 took 17.726s\n",
            "Training loss in this epoch: \t0.106520\n",
            "Epoch 9 of 30 took 18.134s\n",
            "Training loss in this epoch: \t0.095082\n",
            "Epoch 10 of 30 took 17.811s\n",
            "Training loss in this epoch: \t0.083453\n",
            "Epoch 11 of 30 took 17.701s\n",
            "Training loss in this epoch: \t0.074854\n",
            "Epoch 12 of 30 took 17.939s\n",
            "Training loss in this epoch: \t0.063972\n",
            "Epoch 13 of 30 took 17.698s\n",
            "Training loss in this epoch: \t0.057416\n",
            "Epoch 14 of 30 took 17.657s\n",
            "Training loss in this epoch: \t0.051176\n",
            "Epoch 15 of 30 took 17.661s\n",
            "Training loss in this epoch: \t0.051121\n",
            "Epoch 16 of 30 took 17.567s\n",
            "Training loss in this epoch: \t0.044437\n",
            "Epoch 17 of 30 took 17.546s\n",
            "Training loss in this epoch: \t0.041673\n",
            "Epoch 18 of 30 took 17.659s\n",
            "Training loss in this epoch: \t0.037935\n",
            "Epoch 19 of 30 took 17.726s\n",
            "Training loss in this epoch: \t0.039207\n",
            "Epoch 20 of 30 took 17.781s\n",
            "Training loss in this epoch: \t0.036242\n",
            "Epoch 21 of 30 took 17.699s\n",
            "Training loss in this epoch: \t0.034946\n",
            "Epoch 22 of 30 took 17.841s\n",
            "Training loss in this epoch: \t0.029067\n",
            "Epoch 23 of 30 took 17.814s\n",
            "Training loss in this epoch: \t0.028664\n",
            "Epoch 24 of 30 took 17.952s\n",
            "Training loss in this epoch: \t0.029494\n",
            "Epoch 25 of 30 took 17.626s\n",
            "Training loss in this epoch: \t0.029672\n",
            "Epoch 26 of 30 took 17.924s\n",
            "Training loss in this epoch: \t0.028382\n",
            "Epoch 27 of 30 took 17.744s\n",
            "Training loss in this epoch: \t0.029729\n",
            "Epoch 28 of 30 took 17.731s\n",
            "Training loss in this epoch: \t0.026020\n",
            "Epoch 29 of 30 took 17.789s\n",
            "Training loss in this epoch: \t0.022672\n",
            "Epoch 30 of 30 took 17.827s\n",
            "Training loss in this epoch: \t0.027119\n"
          ],
          "name": "stdout"
        },
        {
          "output_type": "display_data",
          "data": {
            "image/png": "[encoded data removed]",
            "text/plain": [
              "<Figure size 432x288 with 1 Axes>"
            ]
          },
          "metadata": {
            "tags": []
          }
        }
      ]
    },
    {
      "cell_type": "code",
      "metadata": {
        "id": "lDTCpc-ykGE6",
        "colab_type": "code",
        "colab": {
          "base_uri": "https://localhost:8080/",
          "height": 35
        },
        "outputId": "f4aff89e-dc79-460c-d9e9-aadb4132dd0d"
      },
      "source": [
        "test_accuracy(model)"
      ],
      "execution_count": 38,
      "outputs": [
        {
          "output_type": "stream",
          "text": [
            "Test Accuracy of the model: 93.34 %\n"
          ],
          "name": "stdout"
        }
      ]
    },
    {
      "cell_type": "markdown",
      "metadata": {
        "id": "jFRtaDMjkZCk",
        "colab_type": "text"
      },
      "source": [
        "Получилось не сильно лучше.\n",
        "Думаю в целом задание выполнено."
      ]
    },
    {
      "cell_type": "code",
      "metadata": {
        "id": "kV5k_9-j-eG5",
        "colab_type": "code",
        "colab": {}
      },
      "source": [
        ""
      ],
      "execution_count": 0,
      "outputs": []
    }
  ]
}
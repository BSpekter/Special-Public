{
  "nbformat": 4,
  "nbformat_minor": 0,
  "metadata": {
    "colab": {
      "name": "FASHION_MNIST_acc92.62.ipynb",
      "provenance": [],
      "collapsed_sections": [],
      "include_colab_link": true
    },
    "kernelspec": {
      "name": "python3",
      "display_name": "Python 3"
    }
  },
  "cells": [
    {
      "cell_type": "markdown",
      "metadata": {
        "id": "view-in-github",
        "colab_type": "text"
      },
      "source": [
        "<a href=\"https://colab.research.google.com/github/BSpekter/Special-Public/blob/master/FASHION_MNIST_acc92_62.ipynb\" target=\"_parent\"><img src=\"https://colab.research.google.com/assets/colab-badge.svg\" alt=\"Open In Colab\"/></a>"
      ]
    },
    {
      "cell_type": "code",
      "metadata": {
        "id": "nCoQ9Z4CxJcM",
        "colab_type": "code",
        "colab": {}
      },
      "source": [
        "import torch\n",
        "from torchvision import datasets,transforms\n",
        "from torch import  optim\n",
        "import seaborn\n",
        "import torch.nn.functional as F\n",
        "import numpy as np\n",
        "import time\n",
        "\n",
        "import helper\n",
        "import matplotlib.pyplot as plt\n",
        "\n",
        "from torch.autograd import Variable\n",
        "import torch.nn as nn"
      ],
      "execution_count": 0,
      "outputs": []
    },
    {
      "cell_type": "code",
      "metadata": {
        "id": "ouVZbx6yxORD",
        "colab_type": "code",
        "colab": {
          "base_uri": "https://localhost:8080/",
          "height": 280
        },
        "outputId": "4f57c1a7-3bbd-4a7c-b984-49d2731a116b"
      },
      "source": [
        " transform = transforms.Compose([transforms.ToTensor(),\n",
        "                               transforms.Normalize((0.5, ), (0.5, ))])\n",
        " trainset = datasets.FashionMNIST('~/.pytorch/F_MNIST_data/', train = True, transform=transform, download=True)\n",
        " trainloader = torch.utils.data.DataLoader(trainset, shuffle=True, batch_size=64)\n",
        " testset = datasets.FashionMNIST('~/.pytorch/F_MNIST_data/', train = False, transform=transform, download = True)\n",
        "testloader = torch.utils.data.DataLoader(testset, shuffle=False, batch_size=64)\n"
      ],
      "execution_count": 2,
      "outputs": [
        {
          "output_type": "stream",
          "text": [
            "  0%|          | 16384/26421880 [00:00<03:02, 145058.90it/s]"
          ],
          "name": "stderr"
        },
        {
          "output_type": "stream",
          "text": [
            "Downloading http://fashion-mnist.s3-website.eu-central-1.amazonaws.com/train-images-idx3-ubyte.gz to /root/.pytorch/F_MNIST_data/FashionMNIST/raw/train-images-idx3-ubyte.gz\n"
          ],
          "name": "stdout"
        },
        {
          "output_type": "stream",
          "text": [
            "26427392it [00:00, 78744316.58it/s]                            \n"
          ],
          "name": "stderr"
        },
        {
          "output_type": "stream",
          "text": [
            "Extracting /root/.pytorch/F_MNIST_data/FashionMNIST/raw/train-images-idx3-ubyte.gz to /root/.pytorch/F_MNIST_data/FashionMNIST/raw\n"
          ],
          "name": "stdout"
        },
        {
          "output_type": "stream",
          "text": [
            "32768it [00:00, 446772.88it/s]\n",
            "  2%|▏         | 98304/4422102 [00:00<00:04, 905727.09it/s]"
          ],
          "name": "stderr"
        },
        {
          "output_type": "stream",
          "text": [
            "Downloading http://fashion-mnist.s3-website.eu-central-1.amazonaws.com/train-labels-idx1-ubyte.gz to /root/.pytorch/F_MNIST_data/FashionMNIST/raw/train-labels-idx1-ubyte.gz\n",
            "Extracting /root/.pytorch/F_MNIST_data/FashionMNIST/raw/train-labels-idx1-ubyte.gz to /root/.pytorch/F_MNIST_data/FashionMNIST/raw\n",
            "Downloading http://fashion-mnist.s3-website.eu-central-1.amazonaws.com/t10k-images-idx3-ubyte.gz to /root/.pytorch/F_MNIST_data/FashionMNIST/raw/t10k-images-idx3-ubyte.gz\n"
          ],
          "name": "stdout"
        },
        {
          "output_type": "stream",
          "text": [
            "4423680it [00:00, 22573711.15it/s]                         \n",
            "8192it [00:00, 144441.48it/s]\n"
          ],
          "name": "stderr"
        },
        {
          "output_type": "stream",
          "text": [
            "Extracting /root/.pytorch/F_MNIST_data/FashionMNIST/raw/t10k-images-idx3-ubyte.gz to /root/.pytorch/F_MNIST_data/FashionMNIST/raw\n",
            "Downloading http://fashion-mnist.s3-website.eu-central-1.amazonaws.com/t10k-labels-idx1-ubyte.gz to /root/.pytorch/F_MNIST_data/FashionMNIST/raw/t10k-labels-idx1-ubyte.gz\n",
            "Extracting /root/.pytorch/F_MNIST_data/FashionMNIST/raw/t10k-labels-idx1-ubyte.gz to /root/.pytorch/F_MNIST_data/FashionMNIST/raw\n",
            "Processing...\n",
            "Done!\n"
          ],
          "name": "stdout"
        }
      ]
    },
    {
      "cell_type": "code",
      "metadata": {
        "id": "bOL778QJxPyd",
        "colab_type": "code",
        "colab": {}
      },
      "source": [
        "###ВСТАВОЧНЫЙ КОД###\n",
        "\n",
        "num_epochs = 5\n",
        "num_classes = 10\n",
        "batch_size = 100\n",
        "learning_rate = 0.001"
      ],
      "execution_count": 0,
      "outputs": []
    },
    {
      "cell_type": "code",
      "metadata": {
        "id": "_col_XVtxSBV",
        "colab_type": "code",
        "colab": {}
      },
      "source": [
        "###njnkjnlkjnlkjnlkjn\n",
        "class CNN(nn.Module):\n",
        "    def __init__(self):\n",
        "        super(CNN, self).__init__()\n",
        "        self.layer1 = nn.Sequential(\n",
        "            nn.Conv2d(1, 32, kernel_size=3, padding=1),\n",
        "            nn.ReLU(),\n",
        "            )\n",
        "        self.layer2 = nn.Sequential(\n",
        "            nn.Conv2d(32, 64, kernel_size=3, padding=1),\n",
        "            nn.ReLU(),\n",
        "            nn.MaxPool2d(kernel_size=2, stride=2)\n",
        "            )\n",
        "        self.layer3 = nn.Sequential(\n",
        "            nn.Conv2d(64, 128, kernel_size=3, padding=1),\n",
        "            nn.ReLU(),\n",
        "            nn.MaxPool2d(kernel_size=2, stride=2)\n",
        "            )\n",
        "        self.fc1 = nn.Linear(128*49, 128)\n",
        "        self.fc2 = nn.Linear(128, 10)\n",
        "\n",
        "        self.LogSoftmax = nn.LogSoftmax( dim=1)\n",
        "\n",
        "        #self.dropout = nn.Dropout(p=0.2)\n",
        "        \n",
        "    def forward(self, x):\n",
        "        out = self.layer1(x)\n",
        "        out = self.layer2(out)\n",
        "        out = self.layer3(out)\n",
        "\n",
        "        out = out.reshape(out.size(0), -1)\n",
        "\n",
        "        out = F.relu(self.fc1(out))\n",
        "        #out = self.dropout(F.relu(self.fc2(out)))\n",
        "        #out = self.fc2(out)\n",
        "        out = self.LogSoftmax(self.fc2(out))\n",
        "        return out"
      ],
      "execution_count": 0,
      "outputs": []
    },
    {
      "cell_type": "code",
      "metadata": {
        "id": "sdGYKbruyMTI",
        "colab_type": "code",
        "colab": {}
      },
      "source": [
        "###ВСТАВОЧНЫЙ КОД###\n",
        "\n",
        "\n",
        "device = torch.device('cuda:0' if torch.cuda.is_available() else 'cpu')\n",
        "model = CNN().to(device)\n",
        "criterion = nn.CrossEntropyLoss()\n",
        "optimizer = torch.optim.Adam(model.parameters(), lr=0.001)"
      ],
      "execution_count": 0,
      "outputs": []
    },
    {
      "cell_type": "code",
      "metadata": {
        "id": "o6MSVfZ1W6Rc",
        "colab_type": "code",
        "colab": {
          "base_uri": "https://localhost:8080/",
          "height": 277
        },
        "outputId": "935d2fcd-77c1-4735-fd32-44ae0bcaef75"
      },
      "source": [
        "###ВСТАВОЧНЫЙ КОД###\n",
        "\n",
        "train_loss_list, test_loss_list = [], []\n",
        "train_acc_list, test_acc_list = [], []\n",
        "\n",
        "for e in range(num_epochs):\n",
        "    start_time = time.time()\n",
        "\n",
        "    train_loss, test_loss = [], []\n",
        "    train_acc, test_acc = [], []\n",
        "\n",
        "    model.train(True)\n",
        "    for images, labels in trainloader:\n",
        "        #Run the model\n",
        "        output = model(images)\n",
        "        loss = criterion(output, labels)\n",
        "        train_loss.append(loss.item())\n",
        "\n",
        "        #Backprop and optimization\n",
        "        optimizer.zero_grad()\n",
        "        loss.backward()\n",
        "        optimizer.step()\n",
        "\n",
        "        # Track the accuracy\n",
        "        total = labels.size(0)\n",
        "        _, predicted = torch.max(output.data, 1)\n",
        "        correct = (predicted == labels).sum().item()\n",
        "        train_acc.append(correct / total)\n",
        "\n",
        "    model.train(False)\n",
        "\n",
        "    for images, labels in testloader:\n",
        "        output = model(images)\n",
        "        loss = criterion(output, labels)\n",
        "        test_loss.append(loss.item())\n",
        "\n",
        "        total = labels.size(0)\n",
        "        _, predicted = torch.max(output.data, 1)\n",
        "        correct = (predicted == labels).sum().item()\n",
        "        test_acc.append(correct / total)\n",
        "\n",
        "    #Printing results for the epoch\n",
        "    print(\"Epoch {} of {} took {:.3f}s\".format(\n",
        "        e+1, num_epochs, time.time()-start_time\n",
        "    ))\n",
        "\n",
        "    value_train_loss = np.mean(train_loss)\n",
        "    value_test_loss = np.mean(test_loss)\n",
        "    value_train_accuracy = np.mean(train_acc) * 100\n",
        "    value_test_accuracy = np.mean(test_acc) * 100\n",
        "\n",
        "    train_loss_list.append(value_train_loss)\n",
        "    test_loss_list.append(value_test_loss)\n",
        "    train_acc_list.append(value_train_accuracy)\n",
        "    test_acc_list.append(value_test_accuracy)\n",
        "\n",
        "    print(\"Training loss in this epoch: \\t{:.6f}\".format(\n",
        "        value_train_loss))\n",
        "    print(\"Test accuracy in this epoch: \\t\\t\\t{:.2f} %\".format(\n",
        "        value_test_accuracy))\n",
        "\n"
      ],
      "execution_count": 14,
      "outputs": [
        {
          "output_type": "stream",
          "text": [
            "Epoch 1 of 5 took 225.922s\n",
            "Training loss in this epoch: \t0.072408\n",
            "Test accuracy in this epoch: \t\t\t92.61 %\n",
            "Epoch 2 of 5 took 225.444s\n",
            "Training loss in this epoch: \t0.057144\n",
            "Test accuracy in this epoch: \t\t\t92.47 %\n",
            "Epoch 3 of 5 took 225.240s\n",
            "Training loss in this epoch: \t0.047289\n",
            "Test accuracy in this epoch: \t\t\t92.68 %\n",
            "Epoch 4 of 5 took 225.111s\n",
            "Training loss in this epoch: \t0.037628\n",
            "Test accuracy in this epoch: \t\t\t92.30 %\n",
            "Epoch 5 of 5 took 225.367s\n",
            "Training loss in this epoch: \t0.034817\n",
            "Test accuracy in this epoch: \t\t\t92.02 %\n"
          ],
          "name": "stdout"
        }
      ]
    },
    {
      "cell_type": "code",
      "metadata": {
        "id": "sLsaXkL-sZMd",
        "colab_type": "code",
        "colab": {
          "base_uri": "https://localhost:8080/",
          "height": 285
        },
        "outputId": "76726924-a5d0-43c3-9d1c-dc3f8cd9db40"
      },
      "source": [
        "###ВСТАВОЧНЫЙ КОД###\n",
        "\n",
        "plt.plot(train_acc_list, label=\"Train accuracy\")\n",
        "plt.plot(test_acc_list, label=\"Test accuracy\")\n",
        "plt.legend()"
      ],
      "execution_count": 16,
      "outputs": [
        {
          "output_type": "execute_result",
          "data": {
            "text/plain": [
              "<matplotlib.legend.Legend at 0x7f9d6a3b5e80>"
            ]
          },
          "metadata": {
            "tags": []
          },
          "execution_count": 16
        },
        {
          "output_type": "display_data",
          "data": {
            "image/png": "[encoded data removed]",
            "text/plain": [
              "<Figure size 432x288 with 1 Axes>"
            ]
          },
          "metadata": {
            "tags": []
          }
        }
      ]
    },
    {
      "cell_type": "code",
      "metadata": {
        "id": "DewK7ZFtwSr-",
        "colab_type": "code",
        "colab": {
          "base_uri": "https://localhost:8080/",
          "height": 285
        },
        "outputId": "3fb79164-67bf-43a1-be1a-9fafa6d6ccd2"
      },
      "source": [
        "###ВСТАВОЧНЫЙ КОД###\n",
        "\n",
        "plt.plot(train_loss_list, label=\"Train losses\")\n",
        "plt.plot(test_loss_list, label=\"Test losses\")\n",
        "plt.legend()"
      ],
      "execution_count": 17,
      "outputs": [
        {
          "output_type": "execute_result",
          "data": {
            "text/plain": [
              "<matplotlib.legend.Legend at 0x7f9d6a330eb8>"
            ]
          },
          "metadata": {
            "tags": []
          },
          "execution_count": 17
        },
        {
          "output_type": "display_data",
          "data": {
            "image/png": "[encoded data removed]",
            "text/plain": [
              "<Figure size 432x288 with 1 Axes>"
            ]
          },
          "metadata": {
            "tags": []
          }
        }
      ]
    },
    {
      "cell_type": "code",
      "metadata": {
        "id": "V3xidx4myRxk",
        "colab_type": "code",
        "colab": {
          "base_uri": "https://localhost:8080/",
          "height": 797
        },
        "outputId": "0e9bc7a7-672f-44c3-ee27-fd4dcb16ab14"
      },
      "source": [
        "num_epochs=5\n",
        "\n",
        "# Train the model\n",
        "total_step = len(trainloader)\n",
        "\n",
        "train_loss_list = []\n",
        "test_loss_list = []\n",
        "train_acc_list = []\n",
        "test_acc_list = []\n",
        "\n",
        "for epoch in range(num_epochs):\n",
        "    for i, (images, labels) in enumerate(trainloader):\n",
        "        # Run the forward pass\n",
        "        outputs = model(images)\n",
        "        loss = criterion(outputs, labels)\n",
        "        loss_list.append(loss.item())\n",
        "\n",
        "        # Backprop and perform Adam optimisation\n",
        "        optimizer.zero_grad()\n",
        "        loss.backward()\n",
        "        optimizer.step()\n",
        "\n",
        "        # Track the accuracy\n",
        "        total = labels.size(0)\n",
        "        _, predicted = torch.max(outputs.data, 1)\n",
        "        correct = (predicted == labels).sum().item()\n",
        "        acc_list.append(correct / total)\n",
        "\n",
        "        if (i + 1) % 100 == 0:\n",
        "            print('Epoch [{}/{}], Step [{}/{}], Loss: {:.4f}, Accuracy: {:.2f}%'\n",
        "                  .format(epoch + 1, num_epochs, i + 1, total_step, loss.item(),\n",
        "                          (correct / total) * 100))"
      ],
      "execution_count": 23,
      "outputs": [
        {
          "output_type": "stream",
          "text": [
            "Epoch [1/5], Step [100/938], Loss: 0.4789, Accuracy: 81.25%\n",
            "Epoch [1/5], Step [200/938], Loss: 0.3696, Accuracy: 85.94%\n",
            "Epoch [1/5], Step [300/938], Loss: 0.3574, Accuracy: 90.62%\n",
            "Epoch [1/5], Step [400/938], Loss: 0.4609, Accuracy: 81.25%\n",
            "Epoch [1/5], Step [500/938], Loss: 0.2186, Accuracy: 93.75%\n",
            "Epoch [1/5], Step [600/938], Loss: 0.3116, Accuracy: 84.38%\n",
            "Epoch [1/5], Step [700/938], Loss: 0.1527, Accuracy: 95.31%\n",
            "Epoch [1/5], Step [800/938], Loss: 0.3602, Accuracy: 84.38%\n",
            "Epoch [1/5], Step [900/938], Loss: 0.3201, Accuracy: 92.19%\n",
            "Epoch [2/5], Step [100/938], Loss: 0.2798, Accuracy: 89.06%\n",
            "Epoch [2/5], Step [200/938], Loss: 0.3581, Accuracy: 87.50%\n",
            "Epoch [2/5], Step [300/938], Loss: 0.1788, Accuracy: 96.88%\n",
            "Epoch [2/5], Step [400/938], Loss: 0.1038, Accuracy: 96.88%\n",
            "Epoch [2/5], Step [500/938], Loss: 0.1777, Accuracy: 93.75%\n",
            "Epoch [2/5], Step [600/938], Loss: 0.2441, Accuracy: 89.06%\n",
            "Epoch [2/5], Step [700/938], Loss: 0.2059, Accuracy: 93.75%\n",
            "Epoch [2/5], Step [800/938], Loss: 0.2764, Accuracy: 89.06%\n",
            "Epoch [2/5], Step [900/938], Loss: 0.3089, Accuracy: 87.50%\n",
            "Epoch [3/5], Step [100/938], Loss: 0.1787, Accuracy: 89.06%\n",
            "Epoch [3/5], Step [200/938], Loss: 0.1531, Accuracy: 92.19%\n",
            "Epoch [3/5], Step [300/938], Loss: 0.2228, Accuracy: 87.50%\n",
            "Epoch [3/5], Step [400/938], Loss: 0.3256, Accuracy: 89.06%\n",
            "Epoch [3/5], Step [500/938], Loss: 0.1938, Accuracy: 90.62%\n",
            "Epoch [3/5], Step [600/938], Loss: 0.1378, Accuracy: 96.88%\n",
            "Epoch [3/5], Step [700/938], Loss: 0.2124, Accuracy: 95.31%\n",
            "Epoch [3/5], Step [800/938], Loss: 0.1138, Accuracy: 93.75%\n",
            "Epoch [3/5], Step [900/938], Loss: 0.0668, Accuracy: 98.44%\n",
            "Epoch [4/5], Step [100/938], Loss: 0.0587, Accuracy: 98.44%\n",
            "Epoch [4/5], Step [200/938], Loss: 0.0718, Accuracy: 98.44%\n",
            "Epoch [4/5], Step [300/938], Loss: 0.0336, Accuracy: 98.44%\n",
            "Epoch [4/5], Step [400/938], Loss: 0.2532, Accuracy: 92.19%\n",
            "Epoch [4/5], Step [500/938], Loss: 0.2249, Accuracy: 90.62%\n",
            "Epoch [4/5], Step [600/938], Loss: 0.1505, Accuracy: 92.19%\n",
            "Epoch [4/5], Step [700/938], Loss: 0.0650, Accuracy: 96.88%\n",
            "Epoch [4/5], Step [800/938], Loss: 0.0976, Accuracy: 95.31%\n",
            "Epoch [4/5], Step [900/938], Loss: 0.1580, Accuracy: 95.31%\n",
            "Epoch [5/5], Step [100/938], Loss: 0.1536, Accuracy: 92.19%\n",
            "Epoch [5/5], Step [200/938], Loss: 0.1446, Accuracy: 93.75%\n",
            "Epoch [5/5], Step [300/938], Loss: 0.0438, Accuracy: 98.44%\n",
            "Epoch [5/5], Step [400/938], Loss: 0.0957, Accuracy: 95.31%\n",
            "Epoch [5/5], Step [500/938], Loss: 0.1390, Accuracy: 95.31%\n",
            "Epoch [5/5], Step [600/938], Loss: 0.1372, Accuracy: 93.75%\n",
            "Epoch [5/5], Step [700/938], Loss: 0.2276, Accuracy: 95.31%\n",
            "Epoch [5/5], Step [800/938], Loss: 0.1188, Accuracy: 95.31%\n",
            "Epoch [5/5], Step [900/938], Loss: 0.0880, Accuracy: 96.88%\n"
          ],
          "name": "stdout"
        }
      ]
    },
    {
      "cell_type": "code",
      "metadata": {
        "id": "yibSqmotyULF",
        "colab_type": "code",
        "colab": {
          "base_uri": "https://localhost:8080/",
          "height": 35
        },
        "outputId": "00192328-bc25-4506-add1-63dfa56a6759"
      },
      "source": [
        "# Test the model\n",
        "model.eval()\n",
        "with torch.no_grad():\n",
        "    correct = 0\n",
        "    total = 0\n",
        "    for images, labels in testloader:\n",
        "        outputs = model(images)\n",
        "        _, predicted = torch.max(outputs.data, 1)\n",
        "        total += labels.size(0)\n",
        "        correct += (predicted == labels).sum().item()\n",
        "\n",
        "    print('Test Accuracy of the model on the test images: {} %'.format((correct / total) * 100))"
      ],
      "execution_count": 24,
      "outputs": [
        {
          "output_type": "stream",
          "text": [
            "Test Accuracy of the model on the test images: 92.62 %\n"
          ],
          "name": "stdout"
        }
      ]
    },
    {
      "cell_type": "code",
      "metadata": {
        "id": "c1L35JcO59Lh",
        "colab_type": "code",
        "colab": {
          "base_uri": "https://localhost:8080/",
          "height": 279
        },
        "outputId": "463a6d9a-2fca-45cb-8d52-21a1bf8054ac"
      },
      "source": [
        "plt.xlabel('Epoch #')\n",
        "plt.ylabel('Loss')\n",
        "plt.plot(loss_list)\n",
        "plt.plot(acc_list)\n",
        "plt.show()"
      ],
      "execution_count": 25,
      "outputs": [
        {
          "output_type": "display_data",
          "data": {
            "image/png": "[encoded data removed]",
            "text/plain": [
              "<Figure size 432x288 with 1 Axes>"
            ]
          },
          "metadata": {
            "tags": []
          }
        }
      ]
    },
    {
      "cell_type": "code",
      "metadata": {
        "id": "GwN50V0c7nr1",
        "colab_type": "code",
        "colab": {}
      },
      "source": [
        "nn.BatchNorm2d(16)"
      ],
      "execution_count": 0,
      "outputs": []
    },
    {
      "cell_type": "code",
      "metadata": {
        "id": "bcjkdjVCCvqr",
        "colab_type": "code",
        "colab": {}
      },
      "source": [
        "###njnkjnlkjnlkjnlkjn\n",
        "class CNN(nn.Module):\n",
        "    def __init__(self):\n",
        "        super(CNN, self).__init__()\n",
        "        self.layer1 = nn.Sequential(\n",
        "            nn.Conv2d(1, 32, kernel_size=3, padding=1),\n",
        "            nn.ReLU(),\n",
        "            )\n",
        "        self.layer2 = nn.Sequential(\n",
        "            nn.BatchNorm2d(32),\n",
        "            nn.Conv2d(32, 64, kernel_size=3, padding=1),\n",
        "            nn.ReLU(),\n",
        "            nn.MaxPool2d(kernel_size=2, stride=2)\n",
        "            )\n",
        "        self.layer3 = nn.Sequential(\n",
        "            nn.BatchNorm2d(64),\n",
        "            nn.Conv2d(64, 128, kernel_size=3, padding=1),\n",
        "            nn.ReLU(),\n",
        "            nn.MaxPool2d(kernel_size=2, stride=2)\n",
        "            )\n",
        "        self.fc1 = nn.Linear(128*49, 128)\n",
        "        self.fc2 = nn.Linear(128, 64)\n",
        "        self.fc3 = nn.Linear(64, 10)\n",
        "\n",
        "        self.LogSoftmax = nn.LogSoftmax( dim=1)\n",
        "\n",
        "        self.Dropout = nn.Dropout(p=0.3)\n",
        "        \n",
        "    def forward(self, x):\n",
        "        out = self.layer1(x)\n",
        "        out = self.Dropout(self.layer2(out))\n",
        "        out = self.layer3(out)\n",
        "\n",
        "        out = out.reshape(out.size(0), -1)\n",
        "\n",
        "        out = F.relu(self.fc1(out))\n",
        "        #out = self.dropout(F.relu(self.fc2(out)))\n",
        "        #out = self.fc2(out)\n",
        "        out = self.Dropout(F.relu(self.fc2(out)))\n",
        "        out = self.LogSoftmax(self.fc3(out))\n",
        "        return out"
      ],
      "execution_count": 0,
      "outputs": []
    },
    {
      "cell_type": "code",
      "metadata": {
        "id": "QmLmwljFDoag",
        "colab_type": "code",
        "colab": {}
      },
      "source": [
        "device = torch.device('cuda:0' if torch.cuda.is_available() else 'cpu')\n",
        "model = CNN().to(device)\n",
        "criterion = nn.CrossEntropyLoss()\n",
        "optimizer = torch.optim.Adam(model.parameters(), lr=0.001)"
      ],
      "execution_count": 0,
      "outputs": []
    },
    {
      "cell_type": "code",
      "metadata": {
        "id": "WKA7ILnaDzj2",
        "colab_type": "code",
        "colab": {
          "base_uri": "https://localhost:8080/",
          "height": 797
        },
        "outputId": "6a0c6a7e-a5f7-4edc-8a21-61a0a1e9d004"
      },
      "source": [
        "num_epochs=5\n",
        "# Train the model\n",
        "total_step = len(trainloader)\n",
        "loss_list = []\n",
        "acc_list = []\n",
        "for epoch in range(num_epochs):\n",
        "    for i, (images, labels) in enumerate(trainloader):\n",
        "        # Run the forward pass\n",
        "        outputs = model(images)\n",
        "        loss = criterion(outputs, labels)\n",
        "        loss_list.append(loss.item())\n",
        "\n",
        "        # Backprop and perform Adam optimisation\n",
        "        optimizer.zero_grad()\n",
        "        loss.backward()\n",
        "        optimizer.step()\n",
        "\n",
        "        # Track the accuracy\n",
        "        total = labels.size(0)\n",
        "        _, predicted = torch.max(outputs.data, 1)\n",
        "        correct = (predicted == labels).sum().item()\n",
        "        acc_list.append(correct / total)\n",
        "\n",
        "        if (i + 1) % 100 == 0:\n",
        "            print('Epoch [{}/{}], Step [{}/{}], Loss: {:.4f}, Accuracy: {:.2f}%'\n",
        "                  .format(epoch + 1, num_epochs, i + 1, total_step, loss.item(),\n",
        "                          (correct / total) * 100))"
      ],
      "execution_count": 36,
      "outputs": [
        {
          "output_type": "stream",
          "text": [
            "Epoch [1/5], Step [100/938], Loss: 0.4289, Accuracy: 79.69%\n",
            "Epoch [1/5], Step [200/938], Loss: 0.4325, Accuracy: 85.94%\n",
            "Epoch [1/5], Step [300/938], Loss: 0.3483, Accuracy: 89.06%\n",
            "Epoch [1/5], Step [400/938], Loss: 0.4094, Accuracy: 81.25%\n",
            "Epoch [1/5], Step [500/938], Loss: 0.2955, Accuracy: 93.75%\n",
            "Epoch [1/5], Step [600/938], Loss: 0.3462, Accuracy: 93.75%\n",
            "Epoch [1/5], Step [700/938], Loss: 0.3381, Accuracy: 90.62%\n",
            "Epoch [1/5], Step [800/938], Loss: 0.2319, Accuracy: 92.19%\n",
            "Epoch [1/5], Step [900/938], Loss: 0.5452, Accuracy: 81.25%\n",
            "Epoch [2/5], Step [100/938], Loss: 0.2240, Accuracy: 92.19%\n",
            "Epoch [2/5], Step [200/938], Loss: 0.3782, Accuracy: 89.06%\n",
            "Epoch [2/5], Step [300/938], Loss: 0.3522, Accuracy: 82.81%\n",
            "Epoch [2/5], Step [400/938], Loss: 0.3484, Accuracy: 84.38%\n",
            "Epoch [2/5], Step [500/938], Loss: 0.3209, Accuracy: 85.94%\n",
            "Epoch [2/5], Step [600/938], Loss: 0.2775, Accuracy: 89.06%\n",
            "Epoch [2/5], Step [700/938], Loss: 0.2052, Accuracy: 93.75%\n",
            "Epoch [2/5], Step [800/938], Loss: 0.3256, Accuracy: 84.38%\n",
            "Epoch [2/5], Step [900/938], Loss: 0.2604, Accuracy: 89.06%\n",
            "Epoch [3/5], Step [100/938], Loss: 0.2425, Accuracy: 89.06%\n",
            "Epoch [3/5], Step [200/938], Loss: 0.1387, Accuracy: 98.44%\n",
            "Epoch [3/5], Step [300/938], Loss: 0.2628, Accuracy: 93.75%\n",
            "Epoch [3/5], Step [400/938], Loss: 0.2855, Accuracy: 92.19%\n",
            "Epoch [3/5], Step [500/938], Loss: 0.2908, Accuracy: 90.62%\n",
            "Epoch [3/5], Step [600/938], Loss: 0.2961, Accuracy: 92.19%\n",
            "Epoch [3/5], Step [700/938], Loss: 0.1900, Accuracy: 93.75%\n",
            "Epoch [3/5], Step [800/938], Loss: 0.2745, Accuracy: 89.06%\n",
            "Epoch [3/5], Step [900/938], Loss: 0.1543, Accuracy: 95.31%\n",
            "Epoch [4/5], Step [100/938], Loss: 0.2251, Accuracy: 90.62%\n",
            "Epoch [4/5], Step [200/938], Loss: 0.1790, Accuracy: 93.75%\n",
            "Epoch [4/5], Step [300/938], Loss: 0.2259, Accuracy: 90.62%\n",
            "Epoch [4/5], Step [400/938], Loss: 0.2921, Accuracy: 89.06%\n",
            "Epoch [4/5], Step [500/938], Loss: 0.1853, Accuracy: 95.31%\n",
            "Epoch [4/5], Step [600/938], Loss: 0.2351, Accuracy: 90.62%\n",
            "Epoch [4/5], Step [700/938], Loss: 0.3225, Accuracy: 89.06%\n",
            "Epoch [4/5], Step [800/938], Loss: 0.2293, Accuracy: 89.06%\n",
            "Epoch [4/5], Step [900/938], Loss: 0.1799, Accuracy: 92.19%\n",
            "Epoch [5/5], Step [100/938], Loss: 0.1648, Accuracy: 95.31%\n",
            "Epoch [5/5], Step [200/938], Loss: 0.2131, Accuracy: 89.06%\n",
            "Epoch [5/5], Step [300/938], Loss: 0.1485, Accuracy: 93.75%\n",
            "Epoch [5/5], Step [400/938], Loss: 0.2647, Accuracy: 89.06%\n",
            "Epoch [5/5], Step [500/938], Loss: 0.2064, Accuracy: 92.19%\n",
            "Epoch [5/5], Step [600/938], Loss: 0.2362, Accuracy: 90.62%\n",
            "Epoch [5/5], Step [700/938], Loss: 0.2165, Accuracy: 95.31%\n",
            "Epoch [5/5], Step [800/938], Loss: 0.1337, Accuracy: 93.75%\n",
            "Epoch [5/5], Step [900/938], Loss: 0.2720, Accuracy: 90.62%\n"
          ],
          "name": "stdout"
        }
      ]
    },
    {
      "cell_type": "code",
      "metadata": {
        "id": "raVKMQM0D2i4",
        "colab_type": "code",
        "colab": {
          "base_uri": "https://localhost:8080/",
          "height": 35
        },
        "outputId": "62251b67-bb7f-4d49-d075-2b133f616302"
      },
      "source": [
        "# Test the model\n",
        "model.eval()\n",
        "with torch.no_grad():\n",
        "    correct = 0\n",
        "    total = 0\n",
        "    for images, labels in testloader:\n",
        "        outputs = model(images)\n",
        "        _, predicted = torch.max(outputs.data, 1)\n",
        "        total += labels.size(0)\n",
        "        correct += (predicted == labels).sum().item()\n",
        "\n",
        "    print('Test Accuracy of the model on the test images: {} %'.format((correct / total) * 100))\n",
        "    "
      ],
      "execution_count": 37,
      "outputs": [
        {
          "output_type": "stream",
          "text": [
            "Test Accuracy of the model on the test images: 92.22 %\n"
          ],
          "name": "stdout"
        }
      ]
    },
    {
      "cell_type": "code",
      "metadata": {
        "id": "TPZsDng8EpQD",
        "colab_type": "code",
        "colab": {
          "base_uri": "https://localhost:8080/",
          "height": 279
        },
        "outputId": "552ef93d-1cf6-4a5f-9431-7257d403060e"
      },
      "source": [
        "plt.xlabel('Epoch #')\n",
        "plt.ylabel('Loss')\n",
        "plt.plot(loss_list)\n",
        "plt.plot(acc_list)\n",
        "plt.show()"
      ],
      "execution_count": 38,
      "outputs": [
        {
          "output_type": "display_data",
          "data": {
            "image/png": "[encoded data removed]",
            "text/plain": [
              "<Figure size 432x288 with 1 Axes>"
            ]
          },
          "metadata": {
            "tags": []
          }
        }
      ]
    },
    {
      "cell_type": "markdown",
      "metadata": {
        "id": "sCdn1d2xgqve",
        "colab_type": "text"
      },
      "source": [
        "**Абсолютно новая модель**"
      ]
    },
    {
      "cell_type": "code",
      "metadata": {
        "id": "GD8_t-jXEtco",
        "colab_type": "code",
        "colab": {}
      },
      "source": [
        "num_epochs = 5\n",
        "#num_classes = 10\n",
        "#batch_size = 100\n",
        "#learning_rate = 0.001"
      ],
      "execution_count": 0,
      "outputs": []
    },
    {
      "cell_type": "code",
      "metadata": {
        "id": "gEIvJx6cg2gQ",
        "colab_type": "code",
        "colab": {}
      },
      "source": [
        ""
      ],
      "execution_count": 0,
      "outputs": []
    }
  ]
}